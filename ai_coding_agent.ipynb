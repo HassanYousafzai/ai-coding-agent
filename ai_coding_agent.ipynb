{
  "nbformat": 4,
  "nbformat_minor": 0,
  "metadata": {
    "colab": {
      "provenance": []
    },
    "kernelspec": {
      "name": "python3",
      "display_name": "Python 3"
    },
    "language_info": {
      "name": "python"
    }
  },
  "cells": [
    {
      "cell_type": "code",
      "execution_count": null,
      "metadata": {
        "id": "XCL3dI12AFqk"
      },
      "outputs": [],
      "source": []
    },
    {
      "cell_type": "markdown",
      "source": [
        "# AI Coding Partner Agent 🤖💻\n",
        "\n",
        "A demonstration of advanced Agentic AI principles: **Iterative Reasoning** and **Tool Use**.\n",
        "\n",
        "This agent tackles coding tasks by using a ReAct (Reason-Act) loop:\n",
        "1.  **Reason:** Plans a solution and writes Python code.\n",
        "2.  **Act:** Executes the code in a safe environment (its tool).\n",
        "3.  **Observe:** Analyzes the output or error.\n",
        "4.  **Loop:** Repeats steps 1-3 until the task is solved or a limit is reached.\n",
        "\n",
        "This showcases an AI's ability to autonomously debug and problem-solve, a core capability for an AI employee."
      ],
      "metadata": {
        "id": "qa4VgB1iAWEA"
      }
    },
    {
      "cell_type": "code",
      "source": [
        "# Install the required package for Google's Gemini API\n",
        "!pip install google-generativeai\n",
        "\n",
        "# Import the necessary libraries\n",
        "import google.generativeai as genai\n",
        "from google.colab import userdata\n",
        "from textwrap import fill"
      ],
      "metadata": {
        "colab": {
          "base_uri": "https://localhost:8080/"
        },
        "id": "dUU6SeL3AXfP",
        "outputId": "39e86ae5-d8e4-4e88-c425-99fd263614a0"
      },
      "execution_count": 1,
      "outputs": [
        {
          "output_type": "stream",
          "name": "stdout",
          "text": [
            "Requirement already satisfied: google-generativeai in /usr/local/lib/python3.12/dist-packages (0.8.5)\n",
            "Requirement already satisfied: google-ai-generativelanguage==0.6.15 in /usr/local/lib/python3.12/dist-packages (from google-generativeai) (0.6.15)\n",
            "Requirement already satisfied: google-api-core in /usr/local/lib/python3.12/dist-packages (from google-generativeai) (2.25.1)\n",
            "Requirement already satisfied: google-api-python-client in /usr/local/lib/python3.12/dist-packages (from google-generativeai) (2.181.0)\n",
            "Requirement already satisfied: google-auth>=2.15.0 in /usr/local/lib/python3.12/dist-packages (from google-generativeai) (2.38.0)\n",
            "Requirement already satisfied: protobuf in /usr/local/lib/python3.12/dist-packages (from google-generativeai) (5.29.5)\n",
            "Requirement already satisfied: pydantic in /usr/local/lib/python3.12/dist-packages (from google-generativeai) (2.11.7)\n",
            "Requirement already satisfied: tqdm in /usr/local/lib/python3.12/dist-packages (from google-generativeai) (4.67.1)\n",
            "Requirement already satisfied: typing-extensions in /usr/local/lib/python3.12/dist-packages (from google-generativeai) (4.15.0)\n",
            "Requirement already satisfied: proto-plus<2.0.0dev,>=1.22.3 in /usr/local/lib/python3.12/dist-packages (from google-ai-generativelanguage==0.6.15->google-generativeai) (1.26.1)\n",
            "Requirement already satisfied: googleapis-common-protos<2.0.0,>=1.56.2 in /usr/local/lib/python3.12/dist-packages (from google-api-core->google-generativeai) (1.70.0)\n",
            "Requirement already satisfied: requests<3.0.0,>=2.18.0 in /usr/local/lib/python3.12/dist-packages (from google-api-core->google-generativeai) (2.32.4)\n",
            "Requirement already satisfied: cachetools<6.0,>=2.0.0 in /usr/local/lib/python3.12/dist-packages (from google-auth>=2.15.0->google-generativeai) (5.5.2)\n",
            "Requirement already satisfied: pyasn1-modules>=0.2.1 in /usr/local/lib/python3.12/dist-packages (from google-auth>=2.15.0->google-generativeai) (0.4.2)\n",
            "Requirement already satisfied: rsa<5,>=3.1.4 in /usr/local/lib/python3.12/dist-packages (from google-auth>=2.15.0->google-generativeai) (4.9.1)\n",
            "Requirement already satisfied: httplib2<1.0.0,>=0.19.0 in /usr/local/lib/python3.12/dist-packages (from google-api-python-client->google-generativeai) (0.30.0)\n",
            "Requirement already satisfied: google-auth-httplib2<1.0.0,>=0.2.0 in /usr/local/lib/python3.12/dist-packages (from google-api-python-client->google-generativeai) (0.2.0)\n",
            "Requirement already satisfied: uritemplate<5,>=3.0.1 in /usr/local/lib/python3.12/dist-packages (from google-api-python-client->google-generativeai) (4.2.0)\n",
            "Requirement already satisfied: annotated-types>=0.6.0 in /usr/local/lib/python3.12/dist-packages (from pydantic->google-generativeai) (0.7.0)\n",
            "Requirement already satisfied: pydantic-core==2.33.2 in /usr/local/lib/python3.12/dist-packages (from pydantic->google-generativeai) (2.33.2)\n",
            "Requirement already satisfied: typing-inspection>=0.4.0 in /usr/local/lib/python3.12/dist-packages (from pydantic->google-generativeai) (0.4.1)\n",
            "Requirement already satisfied: grpcio<2.0.0,>=1.33.2 in /usr/local/lib/python3.12/dist-packages (from google-api-core[grpc]!=2.0.*,!=2.1.*,!=2.10.*,!=2.2.*,!=2.3.*,!=2.4.*,!=2.5.*,!=2.6.*,!=2.7.*,!=2.8.*,!=2.9.*,<3.0.0dev,>=1.34.1->google-ai-generativelanguage==0.6.15->google-generativeai) (1.74.0)\n",
            "Requirement already satisfied: grpcio-status<2.0.0,>=1.33.2 in /usr/local/lib/python3.12/dist-packages (from google-api-core[grpc]!=2.0.*,!=2.1.*,!=2.10.*,!=2.2.*,!=2.3.*,!=2.4.*,!=2.5.*,!=2.6.*,!=2.7.*,!=2.8.*,!=2.9.*,<3.0.0dev,>=1.34.1->google-ai-generativelanguage==0.6.15->google-generativeai) (1.71.2)\n",
            "Requirement already satisfied: pyparsing<4,>=3.0.4 in /usr/local/lib/python3.12/dist-packages (from httplib2<1.0.0,>=0.19.0->google-api-python-client->google-generativeai) (3.2.3)\n",
            "Requirement already satisfied: pyasn1<0.7.0,>=0.6.1 in /usr/local/lib/python3.12/dist-packages (from pyasn1-modules>=0.2.1->google-auth>=2.15.0->google-generativeai) (0.6.1)\n",
            "Requirement already satisfied: charset_normalizer<4,>=2 in /usr/local/lib/python3.12/dist-packages (from requests<3.0.0,>=2.18.0->google-api-core->google-generativeai) (3.4.3)\n",
            "Requirement already satisfied: idna<4,>=2.5 in /usr/local/lib/python3.12/dist-packages (from requests<3.0.0,>=2.18.0->google-api-core->google-generativeai) (3.10)\n",
            "Requirement already satisfied: urllib3<3,>=1.21.1 in /usr/local/lib/python3.12/dist-packages (from requests<3.0.0,>=2.18.0->google-api-core->google-generativeai) (2.5.0)\n",
            "Requirement already satisfied: certifi>=2017.4.17 in /usr/local/lib/python3.12/dist-packages (from requests<3.0.0,>=2.18.0->google-api-core->google-generativeai) (2025.8.3)\n"
          ]
        }
      ]
    },
    {
      "cell_type": "code",
      "source": [
        "# @title Step 1: Setup and Authentication\n",
        "from google.colab import userdata\n",
        "import google.generativeai as genai\n",
        "\n",
        "# Read the Gemini API key from Colab's Secrets\n",
        "# Click the key icon (🔑) in the left sidebar, then \"Add new secret\".\n",
        "# Name it 'GEMINI_API_KEY' and paste your key from https://aistudio.google.com/\n",
        "google_api_key = userdata.get('GEMINI_API_KEY')\n",
        "\n",
        "# Configure the Gemini client\n",
        "genai.configure(api_key=google_api_key)\n",
        "\n",
        "# Initialize the model. We'll use the fast and capable 'gemini-1.5-flash'\n",
        "model = genai.GenerativeModel('gemini-1.5-flash')\n",
        "\n",
        "print(\"✅ Gemini model initialized successfully!\")"
      ],
      "metadata": {
        "colab": {
          "base_uri": "https://localhost:8080/"
        },
        "id": "hQfMWP5KAk4g",
        "outputId": "65e8d8a3-f9cd-450d-8cc0-faeafe94853d"
      },
      "execution_count": 2,
      "outputs": [
        {
          "output_type": "stream",
          "name": "stdout",
          "text": [
            "✅ Gemini model initialized successfully!\n"
          ]
        }
      ]
    },
    {
      "cell_type": "code",
      "source": [
        "# @title Step 2: Create the Code Execution Tool\n",
        "def execute_python_code(code_string):\n",
        "    \"\"\"\n",
        "    A safe-ish function to execute a string of Python code in the Colab environment.\n",
        "    This acts as the agent's \"tool\" for running code and seeing the output.\n",
        "    \"\"\"\n",
        "    try:\n",
        "        # Create a dedicated local namespace for execution to avoid polluting the global scope.\n",
        "        local_namespace = {}\n",
        "        # Execute the code\n",
        "        exec(code_string, globals(), local_namespace)\n",
        "        # Try to capture any output that was printed or stored in an 'output' variable\n",
        "        output = local_namespace.get('output', 'Code executed successfully. No output captured.')\n",
        "        return f\"SUCCESS: Output: {output}\"\n",
        "    except Exception as e:\n",
        "        # Return the error message so the agent can learn from it\n",
        "        return f\"ERROR: {type(e).__name__}: {e}\""
      ],
      "metadata": {
        "id": "QhWuxy0NCLnD"
      },
      "execution_count": 3,
      "outputs": []
    },
    {
      "cell_type": "code",
      "source": [
        "# @title Step 3: Build the Coding Agent\n",
        "def coding_agent(task_description, max_attempts=4):\n",
        "    \"\"\"\n",
        "    An AI agent that writes and iteratively debugs code to complete a task.\n",
        "    \"\"\"\n",
        "    print(f\"💻 Task received: {task_description}\")\n",
        "    print(\"🧠 Thinking...\")\n",
        "\n",
        "    # We'll give the model a very clear system prompt\n",
        "    system_prompt = \"\"\"\n",
        "    You are an expert Python coding AI. Your goal is to write code to solve a user's task.\n",
        "    You must follow these steps:\n",
        "    1. Reason about what code needs to be written.\n",
        "    2. Write the code inside a markdown code block labeled 'python'.\n",
        "    3. The code must print its final result to a variable called 'output'.\n",
        "    4. You will then be shown the execution result or error.\n",
        "    5. If there is an error, analyze it, fix the code, and try again.\n",
        "\n",
        "    You must only respond with the code. Do not respond with any other text or explanations.\n",
        "    \"\"\"\n",
        "\n",
        "    # Start a conversation history\n",
        "    conversation = [\n",
        "        {\"role\": \"user\", \"parts\": [system_prompt + f\"\\nUser's Task: {task_description}\"]},\n",
        "    ]\n",
        "\n",
        "    # Allow for a few attempts in case of errors\n",
        "    for attempt in range(max_attempts):\n",
        "        print(f\"\\n🔄 Attempt {attempt + 1} of {max_attempts}\")\n",
        "        print(\"-\" * 30)\n",
        "\n",
        "        # Generate code from the model\n",
        "        response = model.generate_content(conversation)\n",
        "        generated_code = response.text\n",
        "        # Clean the output to extract just the Python code\n",
        "        if \"```python\" in generated_code:\n",
        "            generated_code = generated_code.split(\"```python\")[1].split(\"```\")[0].strip()\n",
        "        elif \"```\" in generated_code:\n",
        "            generated_code = generated_code.split(\"```\")[1].split(\"```\")[0].strip()\n",
        "\n",
        "        print(f\"📝 Generated code:\\n{generated_code}\")\n",
        "\n",
        "        # Execute the generated code (Use the Tool!)\n",
        "        execution_result = execute_python_code(generated_code)\n",
        "        print(f\"⚡ {execution_result}\")\n",
        "\n",
        "        # Check if the execution was successful\n",
        "        if execution_result.startswith(\"SUCCESS\"):\n",
        "            print(\"\\n✅ Task completed successfully!\")\n",
        "            return f\"**Final Code:**\\n```python\\n{generated_code}\\n```\\n\\n**Result:**\\n{execution_result}\"\n",
        "\n",
        "        # If it failed, add the error to the conversation so the model can learn from it\n",
        "        conversation.append({\"role\": \"model\", \"parts\": [f\"Code I wrote:\\n{generated_code}\\n\\nResult:\\n{execution_result}\"]})\n",
        "        conversation.append({\"role\": \"user\", \"parts\": [\"That code failed. Please analyze the error and write new, fixed code.\"]})\n",
        "\n",
        "    return \"❌ The agent was unable to complete the task after several attempts.\""
      ],
      "metadata": {
        "id": "x25AQ1XYCTjX"
      },
      "execution_count": 4,
      "outputs": []
    },
    {
      "cell_type": "code",
      "source": [
        "# @title Step 4: Run the Agent!\n",
        "# Define your task here. Try this one first, then experiment with others!\n",
        "task = \"Write a function that reverses a string without using any built-in functions like [::-1] or reversed(). Test it with the string 'hello'.\"\n",
        "final_output = coding_agent(task)\n",
        "\n",
        "print(\"\\n\" + \"=\"*60)\n",
        "print(\"FINAL OUTPUT\")\n",
        "print(\"=\"*60)\n",
        "print(final_output)"
      ],
      "metadata": {
        "colab": {
          "base_uri": "https://localhost:8080/",
          "height": 590
        },
        "id": "fZY2gBXXCdbf",
        "outputId": "db91cce6-b2fe-4084-fdd5-de52a59a8bb4"
      },
      "execution_count": 6,
      "outputs": [
        {
          "output_type": "stream",
          "name": "stdout",
          "text": [
            "💻 Task received: Write a function that reverses a string without using any built-in functions like [::-1] or reversed(). Test it with the string 'hello'.\n",
            "🧠 Thinking...\n",
            "\n",
            "🔄 Attempt 1 of 4\n",
            "------------------------------\n",
            "📝 Generated code:\n",
            "def reverse_string(s):\n",
            "    reversed_str = \"\"\n",
            "    for i in range(len(s) - 1, -1, -1):\n",
            "        reversed_str += s[i]\n",
            "    return reversed_str\n",
            "\n",
            "output = reverse_string(\"hello\")\n",
            "⚡ SUCCESS: Output: olleh\n",
            "\n",
            "✅ Task completed successfully!\n",
            "\n",
            "============================================================\n",
            "FINAL OUTPUT\n",
            "============================================================\n",
            "**Final Code:**\n",
            "```python\n",
            "def reverse_string(s):\n",
            "    reversed_str = \"\"\n",
            "    for i in range(len(s) - 1, -1, -1):\n",
            "        reversed_str += s[i]\n",
            "    return reversed_str\n",
            "\n",
            "output = reverse_string(\"hello\")\n",
            "```\n",
            "\n",
            "**Result:**\n",
            "SUCCESS: Output: olleh\n"
          ]
        }
      ]
    },
    {
      "cell_type": "markdown",
      "source": [
        "## Summary & Evaluation\n",
        "\n",
        "**Success Criteria Met:**\n",
        "\n",
        "✅ **Tool Use:** The agent successfully used the Python `exec()` function as a tool to execute its generated code.\n",
        "\n",
        "✅ **Iterative Reasoning (ReAct Loop):** The agent's architecture is built on a loop of reasoning, acting, and observing. It successfully solved the prime number task on its first attempt.\n",
        "\n",
        "✅ **Autonomous Problem-Solving:** The agent received a high-level goal and completed it without any human intervention.\n",
        "\n",
        "**This project demonstrates a more advanced form of Agentic AI than the Research Agent, showcasing an AI's ability to not just use tools, but to create and validate its own solutions—a critical skill for an AI employee.**"
      ],
      "metadata": {
        "id": "b6cy8z6bD5Ng"
      }
    },
    {
      "cell_type": "code",
      "source": [],
      "metadata": {
        "id": "WyhXF3iUD7O-"
      },
      "execution_count": null,
      "outputs": []
    }
  ]
}